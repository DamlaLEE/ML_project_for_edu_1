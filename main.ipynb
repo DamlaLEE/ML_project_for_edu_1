{
 "cells": [
  {
   "cell_type": "markdown",
   "id": "19ce302b",
   "metadata": {},
   "source": [
    "## students Performance Data\n",
    "- Data source : kaggle\n",
    "- Date of wright : 2025-04-09\n",
    "- Purpose of regression : Predicting student's average score with their parental level of education"
   ]
  },
  {
   "cell_type": "code",
   "execution_count": 84,
   "id": "cab9a057",
   "metadata": {},
   "outputs": [
    {
     "name": "stdout",
     "output_type": "stream",
     "text": [
      "['GridSearchCV', 'KFold', 'LGBMRegressor', 'Lasso', 'LinearRegression', 'RandomForestRegressor', 'Ridge', 'StratifiedGroupKFold', 'XGBRegressor', '__builtins__', '__cached__', '__doc__', '__file__', '__loader__', '__name__', '__package__', '__spec__', 'cross_val_score', 'feature_importance_check', 'make_scorer', 'mean_absolute_error', 'mean_squared_error', 'missingno', 'np', 'os', 'pd', 'pearsonr', 'pickle', 'plt', 'rmse_scorer', 'sns', 'split_data']\n"
     ]
    }
   ],
   "source": [
    "import importlib\n",
    "import utils.utils_group\n",
    "\n",
    "importlib.reload(utils.utils_group)  # 모듈을 강제로 다시 불러옴\n",
    "\n",
    "# 그 다음 다시 확인\n",
    "print(dir(utils.utils_group))"
   ]
  },
  {
   "cell_type": "code",
   "execution_count": 85,
   "id": "2bef9496",
   "metadata": {},
   "outputs": [],
   "source": [
    "import os\n",
    "import pickle\n",
    "import numpy as np\n",
    "import pandas as pd\n",
    "import missingno #결측치\n",
    "import seaborn as sns\n",
    "import matplotlib.pyplot as plt\n",
    "\n",
    "# ML model\n",
    "from scipy.stats import pearsonr\n",
    "from sklearn.linear_model import LinearRegression, Ridge, Lasso\n",
    "from sklearn.ensemble import RandomForestRegressor\n",
    "from xgboost import XGBRegressor\n",
    "from lightgbm import LGBMRegressor\n",
    "\n",
    "#예측 검증 지표\n",
    "from sklearn.metrics import make_scorer, mean_squared_error, mean_absolute_error\n",
    "from sklearn.model_selection import cross_val_score\n",
    "from sklearn.model_selection import StratifiedGroupKFold\n",
    "from sklearn.model_selection import KFold\n",
    "\n",
    "#cross_validation\n",
    "from sklearn.model_selection import GridSearchCV\n",
    "\n",
    "from utils.utils_group import split_data, feature_importance_check, rmse_scorer\n",
    "\n",
    "import warnings\n",
    "\n",
    "warnings.filterwarnings('ignore')"
   ]
  },
  {
   "cell_type": "code",
   "execution_count": 69,
   "id": "259010a9",
   "metadata": {},
   "outputs": [],
   "source": [
    "file_path = 'StudentsPerformance.csv'\n",
    "# # 데이터 불러오기\n",
    "df_basic = pd.read_csv(file_path, encoding=\"cp949\")"
   ]
  },
  {
   "cell_type": "markdown",
   "id": "122547c6",
   "metadata": {},
   "source": [
    "### 1. EDA\n",
    "1. Describtion & null \n",
    "2. Select feature for encoding"
   ]
  },
  {
   "cell_type": "code",
   "execution_count": 70,
   "id": "07a250dd",
   "metadata": {},
   "outputs": [
    {
     "data": {
      "text/plain": [
       "Index(['gender', 'race/ethnicity', 'parental level of education', 'lunch',\n",
       "       'test preparation course', 'math score', 'reading score',\n",
       "       'writing score'],\n",
       "      dtype='object')"
      ]
     },
     "execution_count": 70,
     "metadata": {},
     "output_type": "execute_result"
    }
   ],
   "source": [
    "df_basic.columns"
   ]
  },
  {
   "cell_type": "code",
   "execution_count": 71,
   "id": "5a3c5043",
   "metadata": {},
   "outputs": [
    {
     "data": {
      "text/plain": [
       "test preparation course\n",
       "none         642\n",
       "completed    358\n",
       "Name: count, dtype: int64"
      ]
     },
     "execution_count": 71,
     "metadata": {},
     "output_type": "execute_result"
    }
   ],
   "source": [
    "# df_basic.info()\n",
    "# missingno.matrix(df_basic) # there is no null value\n",
    "# df_basic.describe() # Three columns are not continuous columns\n",
    "df_basic['test preparation course'].value_counts()"
   ]
  },
  {
   "cell_type": "code",
   "execution_count": 72,
   "id": "261e321c",
   "metadata": {},
   "outputs": [],
   "source": [
    "# mapping_gender, lunch, perp \n",
    "gender = {'male' : 0, 'female' : 1}\n",
    "lunch = {'standard' : 1, 'free/reduced' : 0 }\n",
    "prep = {'none' : 0, 'completed' : 1 }\n",
    "# one tho encoding\n",
    "parental_education_keys = [\"some high school\", \"high school\", \"some college\", \"associate's degree\", \"bachelor's degree\", \"master's degree\"]\n",
    "parental_education_values = [i for i in range (1,7)]\n",
    "\n",
    "parental_deucation_dict = dict(zip(parental_education_keys, parental_education_values))"
   ]
  },
  {
   "cell_type": "code",
   "execution_count": 73,
   "id": "4154b699",
   "metadata": {},
   "outputs": [],
   "source": [
    "# copy dataframe\n",
    "df_clean = df_basic.copy()\n",
    "\n",
    "# mapping\n",
    "df_clean['gender'] = df_clean['gender'].map(gender)\n",
    "df_clean['lunch'] = df_clean['lunch'].map(lunch)\n",
    "df_clean['test preparation course'] = df_clean['test preparation course'].map(prep)\n",
    "df_clean['parental level of education'] = df_clean['parental level of education'].map(parental_deucation_dict)"
   ]
  },
  {
   "cell_type": "code",
   "execution_count": 74,
   "id": "0a8381fe",
   "metadata": {},
   "outputs": [],
   "source": [
    "race = list(df_clean['race/ethnicity'].unique())\n",
    "\n",
    "#df_onehot = \n",
    "one_hot= pd.get_dummies(df_clean['race/ethnicity'], prefix='race').astype(int)\n",
    "df_encoded = pd.concat([df_clean, one_hot], axis=1)\n",
    "df_encoded.drop(columns=['race/ethnicity'], inplace=True)"
   ]
  },
  {
   "cell_type": "code",
   "execution_count": 75,
   "id": "63b3a9a2",
   "metadata": {},
   "outputs": [
    {
     "data": {
      "text/html": [
       "<div>\n",
       "<style scoped>\n",
       "    .dataframe tbody tr th:only-of-type {\n",
       "        vertical-align: middle;\n",
       "    }\n",
       "\n",
       "    .dataframe tbody tr th {\n",
       "        vertical-align: top;\n",
       "    }\n",
       "\n",
       "    .dataframe thead th {\n",
       "        text-align: right;\n",
       "    }\n",
       "</style>\n",
       "<table border=\"1\" class=\"dataframe\">\n",
       "  <thead>\n",
       "    <tr style=\"text-align: right;\">\n",
       "      <th></th>\n",
       "      <th>gender</th>\n",
       "      <th>parental level of education</th>\n",
       "      <th>lunch</th>\n",
       "      <th>test preparation course</th>\n",
       "      <th>math score</th>\n",
       "      <th>reading score</th>\n",
       "      <th>writing score</th>\n",
       "      <th>race_group A</th>\n",
       "      <th>race_group B</th>\n",
       "      <th>race_group C</th>\n",
       "      <th>race_group D</th>\n",
       "      <th>race_group E</th>\n",
       "      <th>score_average</th>\n",
       "    </tr>\n",
       "  </thead>\n",
       "  <tbody>\n",
       "    <tr>\n",
       "      <th>0</th>\n",
       "      <td>1</td>\n",
       "      <td>5</td>\n",
       "      <td>1</td>\n",
       "      <td>0</td>\n",
       "      <td>72</td>\n",
       "      <td>72</td>\n",
       "      <td>74</td>\n",
       "      <td>0</td>\n",
       "      <td>1</td>\n",
       "      <td>0</td>\n",
       "      <td>0</td>\n",
       "      <td>0</td>\n",
       "      <td>72.7</td>\n",
       "    </tr>\n",
       "    <tr>\n",
       "      <th>1</th>\n",
       "      <td>1</td>\n",
       "      <td>3</td>\n",
       "      <td>1</td>\n",
       "      <td>1</td>\n",
       "      <td>69</td>\n",
       "      <td>90</td>\n",
       "      <td>88</td>\n",
       "      <td>0</td>\n",
       "      <td>0</td>\n",
       "      <td>1</td>\n",
       "      <td>0</td>\n",
       "      <td>0</td>\n",
       "      <td>82.3</td>\n",
       "    </tr>\n",
       "    <tr>\n",
       "      <th>2</th>\n",
       "      <td>1</td>\n",
       "      <td>6</td>\n",
       "      <td>1</td>\n",
       "      <td>0</td>\n",
       "      <td>90</td>\n",
       "      <td>95</td>\n",
       "      <td>93</td>\n",
       "      <td>0</td>\n",
       "      <td>1</td>\n",
       "      <td>0</td>\n",
       "      <td>0</td>\n",
       "      <td>0</td>\n",
       "      <td>92.7</td>\n",
       "    </tr>\n",
       "    <tr>\n",
       "      <th>3</th>\n",
       "      <td>0</td>\n",
       "      <td>4</td>\n",
       "      <td>0</td>\n",
       "      <td>0</td>\n",
       "      <td>47</td>\n",
       "      <td>57</td>\n",
       "      <td>44</td>\n",
       "      <td>1</td>\n",
       "      <td>0</td>\n",
       "      <td>0</td>\n",
       "      <td>0</td>\n",
       "      <td>0</td>\n",
       "      <td>49.3</td>\n",
       "    </tr>\n",
       "    <tr>\n",
       "      <th>4</th>\n",
       "      <td>0</td>\n",
       "      <td>3</td>\n",
       "      <td>1</td>\n",
       "      <td>0</td>\n",
       "      <td>76</td>\n",
       "      <td>78</td>\n",
       "      <td>75</td>\n",
       "      <td>0</td>\n",
       "      <td>0</td>\n",
       "      <td>1</td>\n",
       "      <td>0</td>\n",
       "      <td>0</td>\n",
       "      <td>76.3</td>\n",
       "    </tr>\n",
       "    <tr>\n",
       "      <th>...</th>\n",
       "      <td>...</td>\n",
       "      <td>...</td>\n",
       "      <td>...</td>\n",
       "      <td>...</td>\n",
       "      <td>...</td>\n",
       "      <td>...</td>\n",
       "      <td>...</td>\n",
       "      <td>...</td>\n",
       "      <td>...</td>\n",
       "      <td>...</td>\n",
       "      <td>...</td>\n",
       "      <td>...</td>\n",
       "      <td>...</td>\n",
       "    </tr>\n",
       "    <tr>\n",
       "      <th>995</th>\n",
       "      <td>1</td>\n",
       "      <td>6</td>\n",
       "      <td>1</td>\n",
       "      <td>1</td>\n",
       "      <td>88</td>\n",
       "      <td>99</td>\n",
       "      <td>95</td>\n",
       "      <td>0</td>\n",
       "      <td>0</td>\n",
       "      <td>0</td>\n",
       "      <td>0</td>\n",
       "      <td>1</td>\n",
       "      <td>94.0</td>\n",
       "    </tr>\n",
       "    <tr>\n",
       "      <th>996</th>\n",
       "      <td>0</td>\n",
       "      <td>2</td>\n",
       "      <td>0</td>\n",
       "      <td>0</td>\n",
       "      <td>62</td>\n",
       "      <td>55</td>\n",
       "      <td>55</td>\n",
       "      <td>0</td>\n",
       "      <td>0</td>\n",
       "      <td>1</td>\n",
       "      <td>0</td>\n",
       "      <td>0</td>\n",
       "      <td>57.3</td>\n",
       "    </tr>\n",
       "    <tr>\n",
       "      <th>997</th>\n",
       "      <td>1</td>\n",
       "      <td>2</td>\n",
       "      <td>0</td>\n",
       "      <td>1</td>\n",
       "      <td>59</td>\n",
       "      <td>71</td>\n",
       "      <td>65</td>\n",
       "      <td>0</td>\n",
       "      <td>0</td>\n",
       "      <td>1</td>\n",
       "      <td>0</td>\n",
       "      <td>0</td>\n",
       "      <td>65.0</td>\n",
       "    </tr>\n",
       "    <tr>\n",
       "      <th>998</th>\n",
       "      <td>1</td>\n",
       "      <td>3</td>\n",
       "      <td>1</td>\n",
       "      <td>1</td>\n",
       "      <td>68</td>\n",
       "      <td>78</td>\n",
       "      <td>77</td>\n",
       "      <td>0</td>\n",
       "      <td>0</td>\n",
       "      <td>0</td>\n",
       "      <td>1</td>\n",
       "      <td>0</td>\n",
       "      <td>74.3</td>\n",
       "    </tr>\n",
       "    <tr>\n",
       "      <th>999</th>\n",
       "      <td>1</td>\n",
       "      <td>3</td>\n",
       "      <td>0</td>\n",
       "      <td>0</td>\n",
       "      <td>77</td>\n",
       "      <td>86</td>\n",
       "      <td>86</td>\n",
       "      <td>0</td>\n",
       "      <td>0</td>\n",
       "      <td>0</td>\n",
       "      <td>1</td>\n",
       "      <td>0</td>\n",
       "      <td>83.0</td>\n",
       "    </tr>\n",
       "  </tbody>\n",
       "</table>\n",
       "<p>1000 rows × 13 columns</p>\n",
       "</div>"
      ],
      "text/plain": [
       "     gender  parental level of education  lunch  test preparation course  \\\n",
       "0         1                            5      1                        0   \n",
       "1         1                            3      1                        1   \n",
       "2         1                            6      1                        0   \n",
       "3         0                            4      0                        0   \n",
       "4         0                            3      1                        0   \n",
       "..      ...                          ...    ...                      ...   \n",
       "995       1                            6      1                        1   \n",
       "996       0                            2      0                        0   \n",
       "997       1                            2      0                        1   \n",
       "998       1                            3      1                        1   \n",
       "999       1                            3      0                        0   \n",
       "\n",
       "     math score  reading score  writing score  race_group A  race_group B  \\\n",
       "0            72             72             74             0             1   \n",
       "1            69             90             88             0             0   \n",
       "2            90             95             93             0             1   \n",
       "3            47             57             44             1             0   \n",
       "4            76             78             75             0             0   \n",
       "..          ...            ...            ...           ...           ...   \n",
       "995          88             99             95             0             0   \n",
       "996          62             55             55             0             0   \n",
       "997          59             71             65             0             0   \n",
       "998          68             78             77             0             0   \n",
       "999          77             86             86             0             0   \n",
       "\n",
       "     race_group C  race_group D  race_group E  score_average  \n",
       "0               0             0             0           72.7  \n",
       "1               1             0             0           82.3  \n",
       "2               0             0             0           92.7  \n",
       "3               0             0             0           49.3  \n",
       "4               1             0             0           76.3  \n",
       "..            ...           ...           ...            ...  \n",
       "995             0             0             1           94.0  \n",
       "996             1             0             0           57.3  \n",
       "997             1             0             0           65.0  \n",
       "998             0             1             0           74.3  \n",
       "999             0             1             0           83.0  \n",
       "\n",
       "[1000 rows x 13 columns]"
      ]
     },
     "execution_count": 75,
     "metadata": {},
     "output_type": "execute_result"
    }
   ],
   "source": [
    "# 예측할 값 : 3개 과복 평균 값\n",
    "df_encoded['score_average'] = df_encoded[['math score', 'reading score', 'writing score']].mean(axis=1).round(1)\n",
    "df_encoded"
   ]
  },
  {
   "cell_type": "code",
   "execution_count": 76,
   "id": "558db7e6",
   "metadata": {},
   "outputs": [
    {
     "data": {
      "image/png": "[encoded data removed]",
      "text/plain": [
       "<Figure size 1000x600 with 1 Axes>"
      ]
     },
     "metadata": {},
     "output_type": "display_data"
    },
    {
     "name": "stdout",
     "output_type": "stream",
     "text": [
      "correlation_valuee :0.20582515832735396, p_value : 4.9943968022756715e-11\n"
     ]
    }
   ],
   "source": [
    "# correlation between score and parental level of education\n",
    "corr_value, p_value = pearsonr(df_encoded['parental level of education'], df_encoded['score_average'])\n",
    "\n",
    "# visualisation\n",
    "plt.figure(figsize=(10,6))\n",
    "sns.regplot(data=df_encoded, x='parental level of education', y='score_average',\n",
    "            scatter_kws={'alpha': 0.4})\n",
    "plt.title(\"Correlation between Student's score and Parental level of education\")\n",
    "plt.xlabel(\"level of parent's education\")\n",
    "plt.ylabel(\"student's score avearge\")\n",
    "plt.grid(True) #격자 추가\n",
    "\n",
    "plt.show()\n",
    "print(f\"correlation_valuee :{corr_value}, p_value : {p_value}\")\n"
   ]
  },
  {
   "cell_type": "code",
   "execution_count": 77,
   "id": "a53fad9a",
   "metadata": {},
   "outputs": [
    {
     "data": {
      "image/png": "[encoded data removed]",
      "text/plain": [
       "<Figure size 500x500 with 1 Axes>"
      ]
     },
     "metadata": {},
     "output_type": "display_data"
    },
    {
     "name": "stdout",
     "output_type": "stream",
     "text": [
      "correlation_valuee :0.25676231848753456, p_value : 1.6100509035986067e-16\n"
     ]
    }
   ],
   "source": [
    "# correlation between score and parental level of education\n",
    "corr_value, p_value = pearsonr(df_encoded['test preparation course'], df_encoded['score_average'])\n",
    "\n",
    "# visualisation\n",
    "plt.figure(figsize=(5,5))\n",
    "sns.regplot(data=df_encoded, x='test preparation course', y='score_average',\n",
    "            scatter_kws={'alpha': 0.4})\n",
    "plt.title(\"Correlation between Student's score and test preparation course\")\n",
    "plt.xlabel(\"test preparation course\")\n",
    "plt.ylabel(\"student's score avearge\")\n",
    "plt.grid(True) #격자 추가\n",
    "\n",
    "plt.show()\n",
    "print(f\"correlation_valuee :{corr_value}, p_value : {p_value}\")"
   ]
  },
  {
   "cell_type": "markdown",
   "id": "35867266",
   "metadata": {},
   "source": [
    "##### explanation :\n",
    "- There is weak correlation between student's score and parental level of education\n",
    "    + Correlation_value is 0.205\n",
    "        - Normaly, the 0.6 ~ 1.0 score means to have 'strong positive correlationship'"
   ]
  },
  {
   "cell_type": "markdown",
   "id": "949f0a59",
   "metadata": {},
   "source": [
    "### 2. ML learning\n",
    "**step1** Split data (for test & train)  \n",
    "**step2** Fitting several Machin Learning model  \n",
    "**step3** Feature importance (Decision tree model)  \n",
    "**step4** Cross_validation  \n",
    "**step5** Hyper parameter tunning  "
   ]
  },
  {
   "cell_type": "markdown",
   "id": "3862d958",
   "metadata": {},
   "source": [
    "##### **step1** Split data (for test & train)"
   ]
  },
  {
   "cell_type": "code",
   "execution_count": 78,
   "id": "331df326",
   "metadata": {},
   "outputs": [],
   "source": [
    "df_train, df_test = split_data(df_encoded)\n",
    "X_train = df_train.drop(columns=['math score', 'reading score','writing score', 'score_average'], axis=1)\n",
    "y_train = df_train['score_average']\n",
    "\n",
    "X_test = df_test.drop(columns=['math score', 'reading score','writing score', 'score_average'], axis=1)\n",
    "y_test = df_test['score_average']"
   ]
  },
  {
   "cell_type": "markdown",
   "id": "1a57c083",
   "metadata": {},
   "source": [
    "##### **step2** Fitting several Machin Learning "
   ]
  },
  {
   "cell_type": "code",
   "execution_count": 79,
   "id": "7ca25bc0",
   "metadata": {},
   "outputs": [
    {
     "data": {
      "text/html": [
       "<div>\n",
       "<style scoped>\n",
       "    .dataframe tbody tr th:only-of-type {\n",
       "        vertical-align: middle;\n",
       "    }\n",
       "\n",
       "    .dataframe tbody tr th {\n",
       "        vertical-align: top;\n",
       "    }\n",
       "\n",
       "    .dataframe thead th {\n",
       "        text-align: right;\n",
       "    }\n",
       "</style>\n",
       "<table border=\"1\" class=\"dataframe\">\n",
       "  <thead>\n",
       "    <tr style=\"text-align: right;\">\n",
       "      <th></th>\n",
       "      <th>Model</th>\n",
       "      <th>RMSE_train</th>\n",
       "      <th>RMSE_test</th>\n",
       "      <th>MAE_train</th>\n",
       "      <th>MAE_test</th>\n",
       "      <th>Accuracy_train</th>\n",
       "      <th>Accuracy_test</th>\n",
       "    </tr>\n",
       "  </thead>\n",
       "  <tbody>\n",
       "    <tr>\n",
       "      <th>0</th>\n",
       "      <td>Linear</td>\n",
       "      <td>12.337290</td>\n",
       "      <td>12.863299</td>\n",
       "      <td>9.941807</td>\n",
       "      <td>10.405876</td>\n",
       "      <td>0.21250</td>\n",
       "      <td>0.200</td>\n",
       "    </tr>\n",
       "    <tr>\n",
       "      <th>1</th>\n",
       "      <td>Ridge</td>\n",
       "      <td>12.337343</td>\n",
       "      <td>12.863919</td>\n",
       "      <td>9.940743</td>\n",
       "      <td>10.406519</td>\n",
       "      <td>0.21125</td>\n",
       "      <td>0.195</td>\n",
       "    </tr>\n",
       "    <tr>\n",
       "      <th>2</th>\n",
       "      <td>Lasso</td>\n",
       "      <td>12.353262</td>\n",
       "      <td>12.912250</td>\n",
       "      <td>9.944953</td>\n",
       "      <td>10.458329</td>\n",
       "      <td>0.21250</td>\n",
       "      <td>0.195</td>\n",
       "    </tr>\n",
       "    <tr>\n",
       "      <th>3</th>\n",
       "      <td>LGBM</td>\n",
       "      <td>11.368430</td>\n",
       "      <td>13.932790</td>\n",
       "      <td>9.066384</td>\n",
       "      <td>11.323302</td>\n",
       "      <td>0.24375</td>\n",
       "      <td>0.160</td>\n",
       "    </tr>\n",
       "    <tr>\n",
       "      <th>4</th>\n",
       "      <td>RandomForest_bagging</td>\n",
       "      <td>10.927340</td>\n",
       "      <td>14.543762</td>\n",
       "      <td>8.682072</td>\n",
       "      <td>11.720181</td>\n",
       "      <td>0.25000</td>\n",
       "      <td>0.150</td>\n",
       "    </tr>\n",
       "    <tr>\n",
       "      <th>5</th>\n",
       "      <td>XGBoost</td>\n",
       "      <td>10.848715</td>\n",
       "      <td>15.140665</td>\n",
       "      <td>8.498039</td>\n",
       "      <td>12.163467</td>\n",
       "      <td>0.28000</td>\n",
       "      <td>0.145</td>\n",
       "    </tr>\n",
       "  </tbody>\n",
       "</table>\n",
       "</div>"
      ],
      "text/plain": [
       "                  Model  RMSE_train  RMSE_test  MAE_train   MAE_test  \\\n",
       "0                Linear   12.337290  12.863299   9.941807  10.405876   \n",
       "1                 Ridge   12.337343  12.863919   9.940743  10.406519   \n",
       "2                 Lasso   12.353262  12.912250   9.944953  10.458329   \n",
       "3                  LGBM   11.368430  13.932790   9.066384  11.323302   \n",
       "4  RandomForest_bagging   10.927340  14.543762   8.682072  11.720181   \n",
       "5               XGBoost   10.848715  15.140665   8.498039  12.163467   \n",
       "\n",
       "   Accuracy_train  Accuracy_test  \n",
       "0         0.21250          0.200  \n",
       "1         0.21125          0.195  \n",
       "2         0.21250          0.195  \n",
       "3         0.24375          0.160  \n",
       "4         0.25000          0.150  \n",
       "5         0.28000          0.145  "
      ]
     },
     "execution_count": 79,
     "metadata": {},
     "output_type": "execute_result"
    }
   ],
   "source": [
    "# **step2** fit ML\n",
    "models = {\n",
    "        \"Linear\" : LinearRegression(),\n",
    "        \"Ridge\" : Ridge(alpha=1.0),\n",
    "        \"Lasso\" : Lasso(alpha=0.1),\n",
    "        \"RandomForest_bagging\" : RandomForestRegressor(n_estimators=100, random_state=43),\n",
    "        \"XGBoost\" : XGBRegressor(n_estimators=100, random_state=43),\n",
    "        \"LGBM\" : LGBMRegressor(n_estimators=100, random_state=42, verbose = -1)\n",
    "        }\n",
    "\n",
    "results = []\n",
    "\n",
    "for name, model in models.items():\n",
    "    # Model Learning\n",
    "    model.fit(X_train, y_train)\n",
    "    # predict\n",
    "    y_pred_train = model.predict(X_train)\n",
    "    y_pred_test = model.predict(X_test)\n",
    "    # RMSE 측정\n",
    "    rmse_train = np.sqrt(mean_squared_error(y_train, y_pred_train)) # train, predict\n",
    "    rmse_test = np.sqrt(mean_squared_error(y_test, y_pred_test)) # train, predict\n",
    "\n",
    "    mae_train = mean_absolute_error(y_train,y_pred_train)\n",
    "    mae_test = mean_absolute_error(y_test,y_pred_test)\n",
    "    # 오차율 확인\n",
    "\n",
    "    accuracy_train = ((np.abs((y_pred_train - y_train)/ y_train)) <= 0.05).mean()\n",
    "    accuracy_test = ((np.abs((y_pred_test - y_test)/ y_test)) <= 0.05).mean()\n",
    "\n",
    "    # saving result\n",
    "    results.append((name, rmse_train,rmse_test, mae_train, mae_test, accuracy_train, accuracy_test))\n",
    "\n",
    "results.sort(key=lambda x: x[2])\n",
    "\n",
    "results_table = pd.DataFrame(results, columns=['Model', 'RMSE_train','RMSE_test', 'MAE_train', 'MAE_test', 'Accuracy_train', 'Accuracy_test'])\n",
    "\n",
    "results_table"
   ]
  },
  {
   "cell_type": "markdown",
   "id": "9e11fbe5",
   "metadata": {},
   "source": [
    "###### explanation : \n",
    "**본 데이터는 Linear 모델 보다는 Decision tree 모델이 더 정밀한 예측이 가능할 것으로 보임**\n",
    "1. 모델별 검정지표의 격차 : \n",
    "    - 다른 모델보다 Decisiontree 모델 (XGBoost & Randomforest) 에서 RMSE & MAE의 오차가 적게 나타남\n",
    "    - Linear 모델이 Decisiontree (XGBoost & Randomfoest)예측 성능 지표 차이가 큼\n",
    "        \n",
    "2. 특이점\n",
    "    - LightGBM만 다른 Decisiontree 모델 보다 MAE의 격차가 큰것으로 보아 몇개의 큰 오차가 모델에 영향을 미쳤을 것으로 볼 수 있음\n",
    "---\n",
    "**<basic_info>**\n",
    "- MAE (Mean Absolute Error)\n",
    "    + 오차(실제값 - 예측값) 를 절대값으로 변환하여 평균을 측정한 것으로\n",
    "    + 오차 크기가 그대로 더해져서 평균을 내기 때문에 큰오차와 작은오차가 동일하게 반영됨\n",
    "- RMSE (Root Mean Squared Error)\n",
    "    + 오차를 제곱한 후에 평균내서 제곱근을 측정한 것으로\n",
    "    + 큰 오차에 더큰 패널티가 부여됨\n",
    "- 예를 들어, 똑같은 5의 오차더라도 MAE는 5이고 RMSE는 25임으로 RMSE로 측정하면 오차가 큰 값이 더 크게 나타남\n",
    "    + 즉, MAE & RMSE가 비슷하게 나타난다면 큰 오차가 없이 예측과 실제 값이 비슷하다는 의미"
   ]
  },
  {
   "cell_type": "markdown",
   "id": "d306ccda",
   "metadata": {},
   "source": [
    "##### **step3** Feature importance (Decision tree model)"
   ]
  },
  {
   "cell_type": "code",
   "execution_count": 87,
   "id": "5a7781a2",
   "metadata": {},
   "outputs": [
    {
     "name": "stdout",
     "output_type": "stream",
     "text": [
      "                             Importance\n",
      "feature                                \n",
      "parental level of education        0.29\n",
      "test preparation course            0.16\n",
      "lunch                              0.16                          Importance\n",
      "feature                            \n",
      "lunch                          0.16\n",
      "test preparation course        0.16\n",
      "race_group A                   0.13                              Importance\n",
      "feature                                \n",
      "parental level of education        1007\n",
      "gender                              386\n",
      "race_group C                        282\n"
     ]
    }
   ],
   "source": [
    "Random_feature = feature_importance_check(RandomForestRegressor, X_train, y_train)\n",
    "XGBR_feature = feature_importance_check(XGBRegressor, X_train, y_train)\n",
    "Light_feature = feature_importance_check(LGBMRegressor, X_train, y_train)\n",
    "\n",
    "# combine three tables\n",
    "# pd.concat([Random_feature, XGBR_feature, Light_feature],\n",
    "#           axis=1, keys=['Random_feature', 'XGBR_feature', 'Lirght_feature']\n",
    "# )\n",
    "print(Random_feature.head(3) , XGBR_feature.head(3), Light_feature.head(3))"
   ]
  },
  {
   "cell_type": "markdown",
   "id": "ce7abcc0",
   "metadata": {},
   "source": [
    "###### explanation :\n",
    "- 중요도 값은 단순히 각 모델이 데이터의 특성을 어떻게 사용했는지를 보여주는 지표이기 때문에, 실제로는 바로 위에서 추출한 예측 성능(MAE, RMSE)가 더 중요함\n",
    "    + 같은 Decisiontree 모델도 각기 다른 매커니즘과 중요도 계산 방식을 사용하기 때문에 각자 다른 단위를 가지지 않을 수 있음\n",
    "    + 값의 크기를 비교하기 보다, 하나의 모델로 계산한 importance값을 가지고 상대적 중요도를 비교하는 것이 유용함\n",
    "\n",
    "- 위 성과지표도 중요하지만, CV(Cross_validation)을 통한 안전성 평가를 여러번해서 어떤 모델이 꾸준이 좋은 성능을 내는지 확인이 필요함"
   ]
  },
  {
   "cell_type": "markdown",
   "id": "447af7d0",
   "metadata": {},
   "source": [
    "##### **step4** Cross validation\n",
    "- 1.2에서 기본 ML을 활용하여 학습한 결과, 기본 ML을 사용할 경우 train 데이터에 과적합되어 있는 것으로 보임\n",
    "- 때문에 cross-validation 을 진행하여 과적합(overfitting)을 줄이고, 일관된 성능 지표을 얻고자함"
   ]
  },
  {
   "cell_type": "code",
   "execution_count": 88,
   "id": "daee04c6",
   "metadata": {},
   "outputs": [
    {
     "name": "stdout",
     "output_type": "stream",
     "text": [
      "Linear: mean RMSE = 12.485, std = 0.778\n",
      "Ridge: mean RMSE = 12.483, std = 0.781\n",
      "Lasso: mean RMSE = 12.486, std = 0.776\n",
      "RandomForest_bagging: mean RMSE = 14.310, std = 0.521\n",
      "XGBoost: mean RMSE = 15.008, std = 0.605\n",
      "LGBM: mean RMSE = 13.492, std = 0.685\n"
     ]
    }
   ],
   "source": [
    "scorer = make_scorer(rmse_scorer, greater_is_better=False)\n",
    "\n",
    "cv_results = {}\n",
    "\n",
    "for name, model in models.items():\n",
    "    scores = cross_val_score(model, X_train, y_train, cv = 5,\n",
    "                             scoring=scorer)\n",
    "    cv_results[name] = {\"mean_rmse\": -scores.mean(), 'std_rmse' : scores.std()}\n",
    "\n",
    "for name, metrics in cv_results.items():\n",
    "    print(f\"{name}: mean RMSE = {metrics['mean_rmse']:.3f}, std = {metrics['std_rmse']:.3f}\")"
   ]
  },
  {
   "cell_type": "markdown",
   "id": "5260a6bb",
   "metadata": {},
   "source": [
    "###### explanation : \n",
    "- RSME 평균값이 높을 수록, 모델 성능이 좋음 \n",
    "- 표준편자(standard)가 낮을 수록 성능이 일정하게 유지된다는 것을 의미하고, \n",
    "  높다면 fold(분할된 데이터)에 따라 성능이 들쑥 날쑥하고 특정데이터 분할에서만 좋은 성능을 낸다는 것으로 알 수 있음\n",
    "- 위 결과값은 linear 모델이 RSME와 standard가 낮음으로 간단한 linear 모델이 가장 적합할 것으로 보임\n",
    "  + Ridge(L2정규화) & Lasso(L1정규화)의 alpha 값을 활용하여 조정할 예정\n",
    "    - 클수록 더 강한 정규화를 하고자함"
   ]
  },
  {
   "cell_type": "markdown",
   "id": "5a27ddf6",
   "metadata": {},
   "source": [
    "#### **step5** Hyper parameter tunning"
   ]
  },
  {
   "cell_type": "code",
   "execution_count": 89,
   "id": "96003168",
   "metadata": {},
   "outputs": [
    {
     "name": "stdout",
     "output_type": "stream",
     "text": [
      "Fitting 5 folds for each of 5 candidates, totalling 25 fits\n",
      "Best Ridge params: {'alpha': 10}\n",
      "Best Ridge RMSE: 12.474956601339956\n",
      "Fitting 5 folds for each of 5 candidates, totalling 25 fits\n",
      "Best lasso params: {'alpha': 0.01}\n",
      "Best lasso RMSE: 12.483851458006045\n"
     ]
    }
   ],
   "source": [
    "ridge_params = {'alpha' : [0.1, 1, 10, 100, 1000]}\n",
    "ridge_grid = GridSearchCV(Ridge(), param_grid=ridge_params, scoring=scorer, cv=5, verbose=1)\n",
    "\n",
    "ridge_grid.fit(X_train,y_train)\n",
    "\n",
    "#최적의 하이퍼파라미터\n",
    "print(\"Best Ridge params:\", ridge_grid.best_params_)\n",
    "print(\"Best Ridge RMSE:\", -ridge_grid.best_score_)\n",
    "\n",
    "lasso_params = {'alpha':[0.01, 0.1, 1, 10, 100]}\n",
    "lasso_grid = GridSearchCV(Lasso(), param_grid=lasso_params, scoring=scorer, cv=5, verbose=1)\n",
    "\n",
    "lasso_grid.fit(X_train, y_train)\n",
    "\n",
    "#최적의 하이퍼파라미터\n",
    "print(\"Best lasso params:\", lasso_grid.best_params_)\n",
    "print(\"Best lasso RMSE:\", -lasso_grid.best_score_)"
   ]
  },
  {
   "cell_type": "markdown",
   "id": "5dac5344",
   "metadata": {},
   "source": [
    "### 3. Final fitting model and check test_data's predict score and accuracy"
   ]
  },
  {
   "cell_type": "code",
   "execution_count": 90,
   "id": "935fec68",
   "metadata": {},
   "outputs": [
    {
     "name": "stdout",
     "output_type": "stream",
     "text": [
      "final_rmse : 12.87271890433138 final_rme : 10.415842336410874 final_accuracy : 0.2\n"
     ]
    }
   ],
   "source": [
    "best_alpha_ridge = ridge_grid.best_params_['alpha']\n",
    "final_ridge_model = Ridge(alpha = best_alpha_ridge)\n",
    "\n",
    "final_ridge_model.fit(X_train, y_train)\n",
    "y_pred_test = final_ridge_model.predict(X_test)\n",
    "\n",
    "final_rmse = np.sqrt(mean_squared_error(y_test, y_pred_test))\n",
    "final_rme = mean_absolute_error(y_test, y_pred_test)\n",
    "final_accuracy = (np.abs((y_pred_test-y_test)/y_test) < 0.05).mean().round(2)\n",
    "\n",
    "print(\"final_rmse :\", final_rmse,\n",
    "      \"final_rme :\", final_rme,\n",
    "      \"final_accuracy :\", final_accuracy \n",
    "      )"
   ]
  },
  {
   "cell_type": "code",
   "execution_count": 92,
   "id": "ace77633",
   "metadata": {},
   "outputs": [
    {
     "name": "stdout",
     "output_type": "stream",
     "text": [
      "Successfully save the model!\n"
     ]
    }
   ],
   "source": [
    "## saving model as pickle\n",
    "import pickle\n",
    "\n",
    "best_model = ridge_grid.best_estimator_\n",
    "\n",
    "with open(\"Student_performance_ridge_model.pkl\", \"wb\") as f:\n",
    "    pickle.dump(best_model, f)\n",
    "\n",
    "print(\"Successfully save the model!\")"
   ]
  },
  {
   "cell_type": "code",
   "execution_count": null,
   "id": "1c8b3678",
   "metadata": {},
   "outputs": [],
   "source": []
  }
 ],
 "metadata": {
  "kernelspec": {
   "display_name": "Python 3",
   "language": "python",
   "name": "python3"
  },
  "language_info": {
   "codemirror_mode": {
    "name": "ipython",
    "version": 3
   },
   "file_extension": ".py",
   "mimetype": "text/x-python",
   "name": "python",
   "nbconvert_exporter": "python",
   "pygments_lexer": "ipython3",
   "version": "3.11.9"
  }
 },
 "nbformat": 4,
 "nbformat_minor": 5
}
